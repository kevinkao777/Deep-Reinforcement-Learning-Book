{
  "nbformat": 4,
  "nbformat_minor": 0,
  "metadata": {
    "colab": {
      "provenance": [],
      "authorship_tag": "ABX9TyM+xN8Z25VwZJSUkNaf4p1E",
      "include_colab_link": true
    },
    "kernelspec": {
      "name": "python3",
      "display_name": "Python 3"
    },
    "language_info": {
      "name": "python"
    }
  },
  "cells": [
    {
      "cell_type": "markdown",
      "metadata": {
        "id": "view-in-github",
        "colab_type": "text"
      },
      "source": [
        "<a href=\"https://colab.research.google.com/github/kevinkao777/Deep-Reinforcement-Learning-Book/blob/master/%E9%A6%AC%E7%88%BE%E5%8F%AF%E5%A4%AB%E6%B1%BA%E7%AD%96%E9%81%8E%E7%A8%8B_(MDP)_.ipynb\" target=\"_parent\"><img src=\"https://colab.research.google.com/assets/colab-badge.svg\" alt=\"Open In Colab\"/></a>"
      ]
    },
    {
      "cell_type": "code",
      "execution_count": 2,
      "metadata": {
        "colab": {
          "base_uri": "https://localhost:8080/"
        },
        "id": "8uxrv5iYoHMg",
        "outputId": "8aa8d241-d011-487c-b072-04cc5e6d2ec5"
      },
      "outputs": [
        {
          "output_type": "stream",
          "name": "stdout",
          "text": [
            "{0: 39.98081873791644, 1: 39.98081873791644, 2: 20.99040936895822, 3: 0.0}\n"
          ]
        }
      ],
      "source": [
        "import numpy as np\n",
        "\n",
        "class MDP:\n",
        "    def __init__(self, states, actions, transition_probs, rewards, discount_factor):\n",
        "        self.states = states\n",
        "        self.actions = actions\n",
        "        self.transition_probs = transition_probs\n",
        "        self.rewards = rewards\n",
        "        self.discount_factor = discount_factor\n",
        "        \n",
        "    def value_iteration(self, error_tolerance=1e-3):\n",
        "        values = {state: 0 for state in self.states}\n",
        "        while True:\n",
        "            new_values = {state: 0 for state in self.states}\n",
        "            for state in self.states:\n",
        "                action_values = []\n",
        "                for action in self.actions:\n",
        "                    action_value = 0\n",
        "                    for next_state, prob in self.transition_probs[state][action].items():\n",
        "                        action_value += prob * (self.rewards[state][action][next_state] + \n",
        "                                                self.discount_factor * values[next_state])\n",
        "                    action_values.append(action_value)\n",
        "                new_values[state] = max(action_values)\n",
        "            delta = max([abs(new_values[state] - values[state]) for state in self.states])\n",
        "            if delta < error_tolerance:\n",
        "                break\n",
        "            values = new_values\n",
        "        return values\n",
        "\n",
        "states = [0, 1, 2, 3]\n",
        "actions = [0, 1]\n",
        "\n",
        "transition_probs = {\n",
        "    0: {\n",
        "        0: {0: 1.0},\n",
        "        1: {2: 1.0},\n",
        "    },\n",
        "    1: {\n",
        "        0: {0: 0.5, 1: 0.5},\n",
        "        1: {2: 1.0},\n",
        "    },\n",
        "    2: {\n",
        "        0: {0: 0.5, 3: 0.5},\n",
        "        1: {3: 1.0},\n",
        "    },\n",
        "    3: {\n",
        "        0: {3: 1.0},\n",
        "        1: {3: 1.0},\n",
        "    },\n",
        "}\n",
        "\n",
        "rewards = {\n",
        "    0: {0: {0: 2.0}, 1: {2: 2.0}},\n",
        "    1: {0: {0: 2.0, 1: 2.0}, 1: {2: 2.0}},\n",
        "    2: {0: {0: 2.0, 3: 2.0}, 1: {3: 2.0}},\n",
        "    3: {0: {3: 0.0}, 1: {3: 0.0}},\n",
        "}\n",
        "\n",
        "discount_factor = 0.95\n",
        "\n",
        "mdp = MDP(states, actions, transition_probs, rewards, discount_factor)\n",
        "print(mdp.value_iteration())\n"
      ]
    },
    {
      "cell_type": "markdown",
      "source": [
        "這個答案是一個字典，其中鍵為0,1,2,3，值為39.98081873791644，39.98081873791644，20.99040936895822和0.0。\n",
        "\n",
        "這個字典可能是一個結果，表示在馬爾可夫決策過程中，不同狀態（在這種情況下可能為0,1,2,3）對於給定的報酬函數的值的預測。具體的含義取決於實際的問題定義和使用的方法。"
      ],
      "metadata": {
        "id": "1o4lYdtbo_Gl"
      }
    }
  ]
}